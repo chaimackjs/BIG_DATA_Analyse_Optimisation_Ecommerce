{
 "cells": [
  {
   "cell_type": "code",
   "execution_count": 34,
   "metadata": {},
   "outputs": [
    {
     "name": "stdout",
     "output_type": "stream",
     "text": [
      "Category Tree:\n",
      "   categoryid  parentid\n",
      "0        1016     213.0\n",
      "1         809     169.0\n",
      "2         570       9.0\n",
      "3        1691     885.0\n",
      "4         536    1691.0\n",
      "\n",
      " Events:\n",
      "       timestamp  visitorid event  itemid  transactionid\n",
      "0  1433221332117     257597  view  355908            NaN\n",
      "1  1433224214164     992329  view  248676            NaN\n",
      "2  1433221999827     111016  view  318965            NaN\n",
      "3  1433221955914     483717  view  253185            NaN\n",
      "4  1433221337106     951259  view  367447            NaN\n",
      "\n",
      " Item Properties Part 1:\n",
      "       timestamp  itemid    property                            value\n",
      "0  1435460400000  460429  categoryid                             1338\n",
      "1  1441508400000  206783         888          1116713 960601 n277.200\n",
      "2  1439089200000  395014         400  n552.000 639502 n720.000 424566\n",
      "3  1431226800000   59481         790                       n15360.000\n",
      "4  1431831600000  156781         917                           828513\n",
      "\n",
      " Item Properties Part 2:\n",
      "       timestamp  itemid property            value\n",
      "0  1433041200000  183478      561           769062\n",
      "1  1439694000000  132256      976  n26.400 1135780\n",
      "2  1435460400000  420307      921  1149317 1257525\n",
      "3  1431831600000  403324      917          1204143\n",
      "4  1435460400000  230701      521           769062\n"
     ]
    }
   ],
   "source": [
    "import kaggle\n",
    "import subprocess\n",
    "import zipfile\n",
    "import pandas as pd\n",
    "import pandas as pd\n",
    "import numpy as np\n",
    "\n",
    "# Télécharger le dataset depuis Kaggle\n",
    "subprocess.run([\"kaggle\", \"datasets\", \"download\", \"-d\", \"retailrocket/ecommerce-dataset\"])\n",
    "\n",
    "# Décompresser le fichier zip téléchargé\n",
    "with zipfile.ZipFile('ecommerce-dataset.zip', 'r') as zip_ref:\n",
    "    zip_ref.extractall('../data/')\n",
    "\n",
    "# Charger les fichiers CSV dans des DataFrames Pandas\n",
    "category_tree = pd.read_csv('../data/category_tree.csv')\n",
    "events = pd.read_csv('../data/events.csv')\n",
    "item_properties_part1 = pd.read_csv('../data/item_properties_part1.csv')\n",
    "item_properties_part2 = pd.read_csv('../data/item_properties_part2.csv')\n",
    "\n",
    "# Afficher les premières lignes de chaque DataFrame pour inspection\n",
    "print(\"Category Tree:\")\n",
    "print(category_tree.head())\n",
    "\n",
    "print(\"\\n Events:\")\n",
    "print(events.head())\n",
    "\n",
    "print(\"\\n Item Properties Part 1:\")\n",
    "print(item_properties_part1.head())\n",
    "\n",
    "print(\"\\n Item Properties Part 2:\")\n",
    "print(item_properties_part2.head())"
   ]
  },
  {
   "cell_type": "markdown",
   "metadata": {},
   "source": [
    "I. Nettoyage des données pour faciliter mes analyses"
   ]
  },
  {
   "cell_type": "markdown",
   "metadata": {},
   "source": [
    "vérification des valeurs manquantes"
   ]
  },
  {
   "cell_type": "code",
   "execution_count": 35,
   "metadata": {},
   "outputs": [
    {
     "name": "stdout",
     "output_type": "stream",
     "text": [
      " valeurs manquantes pour la table item_properties_part1 : \n",
      "timestamp    0\n",
      "itemid       0\n",
      "property     0\n",
      "value        0\n",
      "dtype: int64\n",
      "\n",
      "\n",
      " valeurs manquantes pour la table item_properties_part2 : \n",
      "timestamp    0\n",
      "itemid       0\n",
      "property     0\n",
      "value        0\n",
      "dtype: int64\n",
      "\n",
      "\n",
      " valeurs manquantes pour la table events : \n",
      "timestamp              0\n",
      "visitorid              0\n",
      "event                  0\n",
      "itemid                 0\n",
      "transactionid    2733184\n",
      "dtype: int64\n",
      "\n",
      "\n",
      " valeurs manquantes pour la table category_tree : \n",
      "categoryid     0\n",
      "parentid      25\n",
      "dtype: int64\n",
      "\n",
      "\n"
     ]
    }
   ],
   "source": [
    "# suppression des doublons: \n",
    "category_tree= category_tree.drop_duplicates()\n",
    "events= events.drop_duplicates()\n",
    "item_properties_part1= item_properties_part1.drop_duplicates()\n",
    "item_properties_part2= item_properties_part2.drop_duplicates()\n",
    "\n",
    "# verification des valeurs manquantes\n",
    "print(f\" valeurs manquantes pour la table item_properties_part1 : \\n{item_properties_part1.isnull().sum()}\\n\\n\")\n",
    "print(f\" valeurs manquantes pour la table item_properties_part2 : \\n{item_properties_part2.isnull().sum()}\\n\\n\")\n",
    "print(f\" valeurs manquantes pour la table events : \\n{events.isnull().sum()}\\n\\n\")\n",
    "print(f\" valeurs manquantes pour la table category_tree : \\n{category_tree.isnull().sum()}\\n\\n\")"
   ]
  },
  {
   "cell_type": "markdown",
   "metadata": {},
   "source": [
    " Analyse des valeurs manquantes :\n",
    " -Table item_properties_part1 et item_properties_part2 : Aucune valeur manquante, données complètes.\n",
    " -Table events : transactionid manquant pour 2733184 lignes, indiquant des événements sans transaction (qui peut être par ex un produit vues, ajouts au # panier). ⚠️ L'analyse peut donc être eronnée du fait qu'elle soit incomplète. Il faut donc se poser la question si ces abscences ont ou non des répercutions sur notre analyse.\n",
    "- Table categorie : parentid manquant pour 25 catégories, probablement des catégories racines. ⚠️ Peut impacter l’analyse des # hiérarchies. On se posela même question ici"
   ]
  },
  {
   "cell_type": "markdown",
   "metadata": {},
   "source": [
    "II Analyse de la table events "
   ]
  },
  {
   "cell_type": "markdown",
   "metadata": {},
   "source": [
    "1 Affichage des élèments de la table "
   ]
  },
  {
   "cell_type": "code",
   "execution_count": 36,
   "metadata": {},
   "outputs": [
    {
     "name": "stdout",
     "output_type": "stream",
     "text": [
      "tête de la table : \n",
      " \n",
      "       timestamp  visitorid event  itemid  transactionid\n",
      "0  1433221332117     257597  view  355908            NaN\n",
      "1  1433224214164     992329  view  248676            NaN\n",
      "2  1433221999827     111016  view  318965            NaN\n",
      "3  1433221955914     483717  view  253185            NaN\n",
      "4  1433221337106     951259  view  367447            NaN\n"
     ]
    }
   ],
   "source": [
    "print(f\"tête de la table : \\n \\n{events.head()}\")"
   ]
  },
  {
   "cell_type": "code",
   "execution_count": 37,
   "metadata": {},
   "outputs": [
    {
     "name": "stdout",
     "output_type": "stream",
     "text": [
      "                timestamp  visitorid event  itemid  transactionid\n",
      "0 2015-06-02 05:02:12.117     257597  view  355908            NaN\n",
      "1 2015-06-02 05:50:14.164     992329  view  248676            NaN\n",
      "2 2015-06-02 05:13:19.827     111016  view  318965            NaN\n",
      "3 2015-06-02 05:12:35.914     483717  view  253185            NaN\n",
      "4 2015-06-02 05:02:17.106     951259  view  367447            NaN\n"
     ]
    }
   ],
   "source": [
    "#Conversion de la colonne \"timestamp\" au format de la date lisible : \n",
    "events[\"timestamp\"] = pd.to_datetime(events[\"timestamp\"], unit=\"ms\")\n",
    "print(events.head())"
   ]
  },
  {
   "cell_type": "code",
   "execution_count": 38,
   "metadata": {},
   "outputs": [
    {
     "name": "stdout",
     "output_type": "stream",
     "text": [
      "different valeurs de transactionid : \n",
      " \n",
      "transactionid\n",
      "0.0        1\n",
      "1.0        1\n",
      "2.0        1\n",
      "3.0        1\n",
      "4.0        1\n",
      "          ..\n",
      "17667.0    1\n",
      "17668.0    1\n",
      "17669.0    2\n",
      "17670.0    1\n",
      "17671.0    1\n",
      "Length: 17672, dtype: int64\n"
     ]
    }
   ],
   "source": [
    "#On va voir les autres valeurs différentes de NaN de \"transactionid\"\n",
    "value_transactionid = events.groupby('transactionid').size()\n",
    "print(f\"different valeurs de transactionid : \\n \\n{value_transactionid}\")"
   ]
  },
  {
   "cell_type": "code",
   "execution_count": 39,
   "metadata": {},
   "outputs": [
    {
     "name": "stdout",
     "output_type": "stream",
     "text": [
      "Valeurs avec transactionid manquant :\n",
      "\n",
      "                      timestamp  visitorid event  itemid  transactionid\n",
      "0       2015-06-02 05:02:12.117     257597  view  355908            NaN\n",
      "1       2015-06-02 05:50:14.164     992329  view  248676            NaN\n",
      "2       2015-06-02 05:13:19.827     111016  view  318965            NaN\n",
      "3       2015-06-02 05:12:35.914     483717  view  253185            NaN\n",
      "4       2015-06-02 05:02:17.106     951259  view  367447            NaN\n",
      "...                         ...        ...   ...     ...            ...\n",
      "2756096 2015-08-01 03:13:05.939     591435  view  261427            NaN\n",
      "2756097 2015-08-01 03:30:13.142     762376  view  115946            NaN\n",
      "2756098 2015-08-01 02:57:00.527    1251746  view   78144            NaN\n",
      "2756099 2015-08-01 03:08:50.703    1184451  view  283392            NaN\n",
      "2756100 2015-08-01 03:36:03.914     199536  view  152913            NaN\n",
      "\n",
      "[2733184 rows x 5 columns]\n"
     ]
    }
   ],
   "source": [
    "# Filtrer et afficher uniquement les lignes où transactionid est NaN\n",
    "value_transactionid = events[events['transactionid'].isna()]\n",
    "\n",
    "print(f\"Valeurs avec transactionid manquant :\\n\\n{value_transactionid}\")"
   ]
  },
  {
   "cell_type": "markdown",
   "metadata": {},
   "source": [
    "A partir de cette analyse, nous pouvons conclure que les produits dans \"transactionid\" avec des valeurs NaN ont été consultés mais n'ont pas été achetés par les visiteurs."
   ]
  },
  {
   "cell_type": "code",
   "execution_count": 40,
   "metadata": {},
   "outputs": [
    {
     "name": "stdout",
     "output_type": "stream",
     "text": [
      "size_event : \n",
      "event\n",
      "addtocart        68966\n",
      "transaction      22457\n",
      "view           2664218\n",
      "dtype: int64\n"
     ]
    }
   ],
   "source": [
    "#A présent, dans la colone \"evens\" nous allons voir si les personnes ont seulement vu, ou ont fait d'autres choses\n",
    "event_attributes = events.groupby(\"event\").size()\n",
    "print(f\"size_event : \\n{event_attributes}\")"
   ]
  },
  {
   "cell_type": "markdown",
   "metadata": {},
   "source": [
    "On remarque qu'il y a 3 types d'évenements dans cette catégories: ceux qui ont ajoutés au panier, acheté, vu.\n"
   ]
  },
  {
   "cell_type": "code",
   "execution_count": 42,
   "metadata": {},
   "outputs": [
    {
     "name": "stderr",
     "output_type": "stream",
     "text": [
      "C:\\Users\\LEM-L3560-05\\AppData\\Local\\Temp\\ipykernel_23168\\2405029667.py:7: FutureWarning: \n",
      "\n",
      "Passing `palette` without assigning `hue` is deprecated and will be removed in v0.14.0. Assign the `x` variable to `hue` and set `legend=False` for the same effect.\n",
      "\n",
      "  sns.barplot(x=event_attributes.index, y=event_attributes.values, palette=\"viridis\")\n"
     ]
    },
    {
     "data": {
      "image/png": "[encoded data removed]",
      "text/plain": [
       "<Figure size 1200x600 with 1 Axes>"
      ]
     },
     "metadata": {},
     "output_type": "display_data"
    }
   ],
   "source": [
    "# Nous allons representer ça sous forme d'un graphique pour avoir une idée de l'ordre de grandeur \n",
    "import matplotlib.pyplot as plt\n",
    "import seaborn as sns\n",
    "\n",
    "# Création du graphique\n",
    "plt.figure(figsize=(12, 6))\n",
    "sns.barplot(x=event_attributes.index, y=event_attributes.values, palette=\"viridis\")\n",
    "\n",
    "# Ajout des titres et labels\n",
    "plt.xlabel(\"Type d'événement\")\n",
    "plt.ylabel(\"Nombre d'occurrences\")\n",
    "plt.title(\"Distribution des événements\")\n",
    "plt.xticks(rotation=45)  # Rotation des labels pour une meilleure lisibilité\n",
    "\n",
    "# Affichage du graphique\n",
    "plt.show()"
   ]
  }
 ],
 "metadata": {
  "kernelspec": {
   "display_name": "base",
   "language": "python",
   "name": "python3"
  },
  "language_info": {
   "codemirror_mode": {
    "name": "ipython",
    "version": 3
   },
   "file_extension": ".py",
   "mimetype": "text/x-python",
   "name": "python",
   "nbconvert_exporter": "python",
   "pygments_lexer": "ipython3",
   "version": "3.12.7"
  }
 },
 "nbformat": 4,
 "nbformat_minor": 2
}
